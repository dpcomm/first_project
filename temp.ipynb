{
 "cells": [
  {
   "cell_type": "code",
   "execution_count": 3,
   "metadata": {},
   "outputs": [
    {
     "data": {
      "text/plain": [
       "<sqlite3.Cursor at 0x7fb6e0e8b960>"
      ]
     },
     "execution_count": 3,
     "metadata": {},
     "output_type": "execute_result"
    }
   ],
   "source": [
    "import sqlite3\n",
    "sql = sqlite3.connect('/Users/jeonhyeongjin/mycode/first_project/db.sqlite3')\n",
    "cur = sql.cursor()\n",
    "cur.execute('select * from sqlite_master where type=\"table\"')"
   ]
  },
  {
   "cell_type": "code",
   "execution_count": 4,
   "metadata": {},
   "outputs": [
    {
     "data": {
      "text/plain": [
       "[('table',\n",
       "  'django_migrations',\n",
       "  'django_migrations',\n",
       "  2,\n",
       "  'CREATE TABLE \"django_migrations\" (\"id\" integer NOT NULL PRIMARY KEY AUTOINCREMENT, \"app\" varchar(255) NOT NULL, \"name\" varchar(255) NOT NULL, \"applied\" datetime NOT NULL)'),\n",
       " ('table',\n",
       "  'sqlite_sequence',\n",
       "  'sqlite_sequence',\n",
       "  3,\n",
       "  'CREATE TABLE sqlite_sequence(name,seq)'),\n",
       " ('table',\n",
       "  'django_content_type',\n",
       "  'django_content_type',\n",
       "  6,\n",
       "  'CREATE TABLE \"django_content_type\" (\"id\" integer NOT NULL PRIMARY KEY AUTOINCREMENT, \"app_label\" varchar(100) NOT NULL, \"model\" varchar(100) NOT NULL)'),\n",
       " ('table',\n",
       "  'auth_group_permissions',\n",
       "  'auth_group_permissions',\n",
       "  9,\n",
       "  'CREATE TABLE \"auth_group_permissions\" (\"id\" integer NOT NULL PRIMARY KEY AUTOINCREMENT, \"group_id\" integer NOT NULL REFERENCES \"auth_group\" (\"id\") DEFERRABLE INITIALLY DEFERRED, \"permission_id\" integer NOT NULL REFERENCES \"auth_permission\" (\"id\") DEFERRABLE INITIALLY DEFERRED)'),\n",
       " ('table',\n",
       "  'auth_permission',\n",
       "  'auth_permission',\n",
       "  15,\n",
       "  'CREATE TABLE \"auth_permission\" (\"id\" integer NOT NULL PRIMARY KEY AUTOINCREMENT, \"content_type_id\" integer NOT NULL REFERENCES \"django_content_type\" (\"id\") DEFERRABLE INITIALLY DEFERRED, \"codename\" varchar(100) NOT NULL, \"name\" varchar(255) NOT NULL)'),\n",
       " ('table',\n",
       "  'auth_group',\n",
       "  'auth_group',\n",
       "  11,\n",
       "  'CREATE TABLE \"auth_group\" (\"id\" integer NOT NULL PRIMARY KEY AUTOINCREMENT, \"name\" varchar(150) NOT NULL UNIQUE)'),\n",
       " ('table',\n",
       "  'main_survey_question',\n",
       "  'main_survey_question',\n",
       "  7,\n",
       "  'CREATE TABLE \"main_survey_question\" (\"id\" integer NOT NULL PRIMARY KEY AUTOINCREMENT, \"subject\" varchar(200) NOT NULL, \"content\" text NOT NULL, \"create_time\" datetime NOT NULL)'),\n",
       " ('table',\n",
       "  'main_survey_answer',\n",
       "  'main_survey_answer',\n",
       "  8,\n",
       "  'CREATE TABLE \"main_survey_answer\" (\"id\" integer NOT NULL PRIMARY KEY AUTOINCREMENT, \"content\" text NOT NULL, \"create_time\" datetime NOT NULL, \"question_id\" bigint NOT NULL REFERENCES \"main_survey_question\" (\"id\") DEFERRABLE INITIALLY DEFERRED)'),\n",
       " ('table',\n",
       "  'main_customuser',\n",
       "  'main_customuser',\n",
       "  17,\n",
       "  'CREATE TABLE \"main_customuser\" (\"id\" integer NOT NULL PRIMARY KEY AUTOINCREMENT, \"password\" varchar(128) NOT NULL, \"last_login\" datetime NULL, \"is_superuser\" bool NOT NULL, \"username\" varchar(150) NOT NULL UNIQUE, \"first_name\" varchar(150) NOT NULL, \"email\" varchar(254) NOT NULL, \"is_staff\" bool NOT NULL, \"is_active\" bool NOT NULL, \"date_joined\" datetime NOT NULL, \"phone_number\" varchar(15) NULL)'),\n",
       " ('table',\n",
       "  'main_customuser_groups',\n",
       "  'main_customuser_groups',\n",
       "  19,\n",
       "  'CREATE TABLE \"main_customuser_groups\" (\"id\" integer NOT NULL PRIMARY KEY AUTOINCREMENT, \"customuser_id\" bigint NOT NULL REFERENCES \"main_customuser\" (\"id\") DEFERRABLE INITIALLY DEFERRED, \"group_id\" integer NOT NULL REFERENCES \"auth_group\" (\"id\") DEFERRABLE INITIALLY DEFERRED)'),\n",
       " ('table',\n",
       "  'main_customuser_user_permissions',\n",
       "  'main_customuser_user_permissions',\n",
       "  20,\n",
       "  'CREATE TABLE \"main_customuser_user_permissions\" (\"id\" integer NOT NULL PRIMARY KEY AUTOINCREMENT, \"customuser_id\" bigint NOT NULL REFERENCES \"main_customuser\" (\"id\") DEFERRABLE INITIALLY DEFERRED, \"permission_id\" integer NOT NULL REFERENCES \"auth_permission\" (\"id\") DEFERRABLE INITIALLY DEFERRED)'),\n",
       " ('table',\n",
       "  'django_admin_log',\n",
       "  'django_admin_log',\n",
       "  33,\n",
       "  'CREATE TABLE \"django_admin_log\" (\"id\" integer NOT NULL PRIMARY KEY AUTOINCREMENT, \"object_id\" text NULL, \"object_repr\" varchar(200) NOT NULL, \"action_flag\" smallint unsigned NOT NULL CHECK (\"action_flag\" >= 0), \"change_message\" text NOT NULL, \"content_type_id\" integer NULL REFERENCES \"django_content_type\" (\"id\") DEFERRABLE INITIALLY DEFERRED, \"user_id\" bigint NOT NULL REFERENCES \"main_customuser\" (\"id\") DEFERRABLE INITIALLY DEFERRED, \"action_time\" datetime NOT NULL)'),\n",
       " ('table',\n",
       "  'django_session',\n",
       "  'django_session',\n",
       "  32,\n",
       "  'CREATE TABLE \"django_session\" (\"session_key\" varchar(40) NOT NULL PRIMARY KEY, \"session_data\" text NOT NULL, \"expire_date\" datetime NOT NULL)')]"
      ]
     },
     "execution_count": 4,
     "metadata": {},
     "output_type": "execute_result"
    }
   ],
   "source": [
    "cur.fetchall()"
   ]
  },
  {
   "cell_type": "code",
   "execution_count": 1,
   "metadata": {},
   "outputs": [
    {
     "data": {
      "text/plain": [
       "'/Users/jeonhyeongjin/mycode/first_project/templates/main'"
      ]
     },
     "execution_count": 1,
     "metadata": {},
     "output_type": "execute_result"
    }
   ],
   "source": [
    "pwd"
   ]
  },
  {
   "cell_type": "code",
   "execution_count": 14,
   "metadata": {},
   "outputs": [
    {
     "data": {
      "text/plain": [
       "['../assets/vectors/battery_1_x2.svg',\n",
       " '../assets/vectors/pw_x2.svg',\n",
       " '../assets/vectors/id_1_x2.svg',\n",
       " '../assets/vectors/wifi_x2.svg',\n",
       " '../assets/vectors/phone_1_x2.svg',\n",
       " '../assets/vectors/name_1_x2.svg',\n",
       " '../assets/vectors/mobile_signal_4_x2.svg',\n",
       " '../assets/vectors/repw_x2.svg']"
      ]
     },
     "execution_count": 14,
     "metadata": {},
     "output_type": "execute_result"
    }
   ],
   "source": [
    "from glob import glob\n",
    "glob('../assets/vectors/*')"
   ]
  },
  {
   "cell_type": "code",
   "execution_count": null,
   "metadata": {},
   "outputs": [],
   "source": []
  }
 ],
 "metadata": {
  "kernelspec": {
   "display_name": "Python 3",
   "language": "python",
   "name": "python3"
  },
  "language_info": {
   "codemirror_mode": {
    "name": "ipython",
    "version": 3
   },
   "file_extension": ".py",
   "mimetype": "text/x-python",
   "name": "python",
   "nbconvert_exporter": "python",
   "pygments_lexer": "ipython3",
   "version": "3.9.18"
  }
 },
 "nbformat": 4,
 "nbformat_minor": 2
}
